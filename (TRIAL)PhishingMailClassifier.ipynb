{
 "cells": [
  {
   "cell_type": "markdown",
   "metadata": {},
   "source": [
    "# Identifying phishing mails by using URL and mail features and ML based classification tools"
   ]
  },
  {
   "cell_type": "markdown",
   "metadata": {
    "toc": true
   },
   "source": [
    "<h1>Table of Contents<span class=\"tocSkip\"></span></h1>\n",
    "<div class=\"toc\"><ul class=\"toc-item\"><li><span><a href=\"#Constructing-Dataset\" data-toc-modified-id=\"Constructing-Dataset-1\"><span class=\"toc-item-num\">1&nbsp;&nbsp;</span>Constructing Dataset</a></span><ul class=\"toc-item\"><li><span><a href=\"#Importing-libraries-and-defining-constants\" data-toc-modified-id=\"Importing-libraries-and-defining-constants-1.1\"><span class=\"toc-item-num\">1.1&nbsp;&nbsp;</span>Importing libraries and defining constants</a></span></li><li><span><a href=\"#Downloading-and-extracting-mails-(phishing-and-ham-mails)\" data-toc-modified-id=\"Downloading-and-extracting-mails-(phishing-and-ham-mails)-1.2\"><span class=\"toc-item-num\">1.2&nbsp;&nbsp;</span>Downloading and extracting mails (phishing and ham mails)</a></span></li><li><span><a href=\"#Loading-mails\" data-toc-modified-id=\"Loading-mails-1.3\"><span class=\"toc-item-num\">1.3&nbsp;&nbsp;</span>Loading mails</a></span></li><li><span><a href=\"#Mail-Features-extraction-functions\" data-toc-modified-id=\"Mail-Features-extraction-functions-1.4\"><span class=\"toc-item-num\">1.4&nbsp;&nbsp;</span>Mail Features extraction functions</a></span><ul class=\"toc-item\"><li><span><a href=\"#Mail-body-features\" data-toc-modified-id=\"Mail-body-features-1.4.1\"><span class=\"toc-item-num\">1.4.1&nbsp;&nbsp;</span>Mail body features</a></span></li><li><span><a href=\"#URL-features\" data-toc-modified-id=\"URL-features-1.4.2\"><span class=\"toc-item-num\">1.4.2&nbsp;&nbsp;</span>URL features</a></span></li></ul></li><li><span><a href=\"#Constructing-dataset-by-extracting-various-features\" data-toc-modified-id=\"Constructing-dataset-by-extracting-various-features-1.5\"><span class=\"toc-item-num\">1.5&nbsp;&nbsp;</span>Constructing dataset by extracting various features</a></span></li></ul></li><li><span><a href=\"#Exploratory-Data-Analysis\" data-toc-modified-id=\"Exploratory-Data-Analysis-2\"><span class=\"toc-item-num\">2&nbsp;&nbsp;</span>Exploratory Data Analysis</a></span><ul class=\"toc-item\"><li><span><a href=\"#Visualization:-Matplotlib\" data-toc-modified-id=\"Visualization:-Matplotlib-2.1\"><span class=\"toc-item-num\">2.1&nbsp;&nbsp;</span>Visualization: Matplotlib</a></span></li><li><span><a href=\"#Histogram,-PDF-and-CDF\" data-toc-modified-id=\"Histogram,-PDF-and-CDF-2.2\"><span class=\"toc-item-num\">2.2&nbsp;&nbsp;</span>Histogram, PDF and CDF</a></span></li><li><span><a href=\"#Violin-plots\" data-toc-modified-id=\"Violin-plots-2.3\"><span class=\"toc-item-num\">2.3&nbsp;&nbsp;</span>Violin plots</a></span></li><li><span><a href=\"#Principal-Component-Analysis\" data-toc-modified-id=\"Principal-Component-Analysis-2.4\"><span class=\"toc-item-num\">2.4&nbsp;&nbsp;</span>Principal Component Analysis</a></span><ul class=\"toc-item\"><li><span><a href=\"#PCA-for-visualization\" data-toc-modified-id=\"PCA-for-visualization-2.4.1\"><span class=\"toc-item-num\">2.4.1&nbsp;&nbsp;</span>PCA for visualization</a></span></li><li><span><a href=\"#PCA-for-dimentionality-reduction\" data-toc-modified-id=\"PCA-for-dimentionality-reduction-2.4.2\"><span class=\"toc-item-num\">2.4.2&nbsp;&nbsp;</span>PCA for dimentionality reduction</a></span></li></ul></li><li><span><a href=\"#t-SNE-using-Scikit-Learn\" data-toc-modified-id=\"t-SNE-using-Scikit-Learn-2.5\"><span class=\"toc-item-num\">2.5&nbsp;&nbsp;</span>t-SNE using Scikit-Learn</a></span></li></ul></li></ul></div>"
   ]
  },
  {
   "cell_type": "markdown",
   "metadata": {},
   "source": [
    "## Constructing Dataset"
   ]
  },
  {
   "cell_type": "markdown",
   "metadata": {},
   "source": [
    "### Importing libraries and defining constants"
   ]
  },
  {
   "cell_type": "code",
   "execution_count": 4,
   "metadata": {
    "ExecuteTime": {
     "end_time": "2021-05-20T16:31:29.635657Z",
     "start_time": "2021-05-20T16:31:29.618489Z"
    }
   },
   "outputs": [
    {
     "data": {
      "text/plain": [
       "<StreamHandler stdout (NOTSET)>"
      ]
     },
     "execution_count": 4,
     "metadata": {},
     "output_type": "execute_result"
    }
   ],
   "source": [
    "import os\n",
    "from bs4 import BeautifulSoup\n",
    "import mailparser\n",
    "from collections import OrderedDict\n",
    "import email\n",
    "from urllib.request import urlretrieve\n",
    "import tarfile\n",
    "import shutil\n",
    "import numpy as np\n",
    "import glob\n",
    "import mailparser\n",
    "import re\n",
    "import tldextract\n",
    "import urllib.request\n",
    "import warnings\n",
    "import logging\n",
    "import csv\n",
    "import sys\n",
    "\n",
    "warnings.filterwarnings('ignore')\n",
    "\n",
    "URLREGEX = r\"^(https?|ftp)://[^\\s/$.?#].[^\\s]*$\"\n",
    "URLREGEX_NOT_ALONE = r\"http[s]?://(?:[a-zA-Z]|[0-9]|[$-_@.&+]|[!*\\(\\),]|(?:%[0-9a-fA-F][0-9a-fA-F]))+\"\n",
    "FLASH_LINKED_CONTENT = r\"http[s]?://(?:[a-zA-Z]|[0-9]|[$-_@.&+]|[!*\\(\\),]|(?:%[0-9a-fA-F][0-9a-fA-F])+).*\\.swf\"\n",
    "HREFREGEX = '<a\\s*href=[\\'|\"](.*?)[\\'\"].*?\\s*>'\n",
    "IPREGEX = r\"\\b((25[0-5]|2[0-4][0-9]|[01]?[0-9][0-9]?)\\.(25[0-5]|2[0-4][0-9]|[01]?[0-9][0-9]?)\\.(25[0-5]|2[0-4][0-9]|[01]?[0-9][0-9]?)\\.(25[0-5]|2[0-4][0-9]|[01]?[0-9][0-9]?))\\b\"\n",
    "MALICIOUS_IP_URL = r\"\\b((25[0-5]|2[0-4][0-9]|[01]?[0-9][0-9]?)\\.(25[0-5]|2[0-4][0-9]|[01]?[0-9][0-9]?)\\.(25[0-5]|2[0-4][0-9]|[01]?[0-9][0-9]?)\\.(25[0-5]|2[0-4][0-9]|[01]?[0-9][0-9]?)\\/(www|http|https|ftp))\\b\"\n",
    "EMAILREGEX = r\"([a-zA-Z0-9_.+-]+@[a-zA-Z0-9-]+\\.[a-zA-Z0-9-.]+)\"\n",
    "GENERAL_SALUTATION = r'\\b(dear|hello|Good|Greetings)(?:\\W+\\w+){0,6}?\\W+(user|customer|seller|buyer|account holder)\\b'\n",
    "DATASETS_DIR = 'datasets'\n",
    "MODELS_DIR = 'models'\n",
    "TAR_DIR = os.path.join(DATASETS_DIR, 'tar')\n",
    "\n",
    "\n",
    "PHISHING_URL = '../datasets/tar/phishing_mails.tar.xz'\n",
    "HAM_URL = '../datasets/tar/20030228_easy_ham_2.tar.bz2'\n",
    "HARD_HAM_URL = '../datasets/tar/20021010_hard_ham.tar.bz2'\n",
    "\n",
    "import logging\n",
    "logger = logging.getLogger()\n",
    "logger.setLevel(logging.CRITICAL)\n",
    "logging.StreamHandler(sys.stdout)"
   ]
  },
  {
   "cell_type": "markdown",
   "metadata": {
    "ExecuteTime": {
     "end_time": "2021-05-16T13:16:52.473887Z",
     "start_time": "2021-05-16T13:16:52.469051Z"
    }
   },
   "source": [
    "### Downloading and extracting mails (phishing and ham mails)"
   ]
  },
  {
   "cell_type": "code",
   "execution_count": 5,
   "metadata": {
    "ExecuteTime": {
     "end_time": "2021-05-20T16:31:31.212718Z",
     "start_time": "2021-05-20T16:31:31.201632Z"
    }
   },
   "outputs": [],
   "source": [
    "\n",
    "\n",
    "def download_dataset(url):\n",
    "    \"\"\"download and unzip data from a url into the specified path\"\"\"\n",
    "\n",
    "    # create directory if it doesn't exist\n",
    "    if not os.path.isdir(TAR_DIR):\n",
    "        os.makedirs(TAR_DIR)\n",
    "\n",
    "    filename = url.rsplit('/', 1)[-1]\n",
    "    tarpath = os.path.join(TAR_DIR, filename)\n",
    "    print(filename)\n",
    "    # download the tar file if it doesn't exist\n",
    "    try:\n",
    "        tarfile.open(tarpath)\n",
    "    except:\n",
    "        urlretrieve(url, tarpath)\n",
    "\n",
    "    with tarfile.open(tarpath) as tar:\n",
    "        dirname = os.path.join(DATASETS_DIR, tar.getnames()[0])\n",
    "        if os.path.isdir(dirname):\n",
    "            shutil.rmtree(dirname)\n",
    "        tar.extractall(path=DATASETS_DIR)\n",
    "\n",
    "        cmds_path = os.path.join(dirname, 'cmds')\n",
    "        if os.path.isfile(cmds_path):\n",
    "            os.remove(cmds_path)\n",
    "\n",
    "    return dirname"
   ]
  },
  {
   "cell_type": "code",
   "execution_count": 6,
   "metadata": {
    "ExecuteTime": {
     "end_time": "2021-05-20T16:31:37.005474Z",
     "start_time": "2021-05-20T16:31:32.114180Z"
    }
   },
   "outputs": [
    {
     "name": "stdout",
     "output_type": "stream",
     "text": [
      "20030228_easy_ham_2.tar.bz2\n",
      "20021010_hard_ham.tar.bz2\n",
      "phishing_mails.tar.xz\n"
     ]
    }
   ],
   "source": [
    "ham_dir = download_dataset(HAM_URL)\n",
    "hard_ham_dir = download_dataset(HARD_HAM_URL)\n",
    "phishing_dir = download_dataset(PHISHING_URL)"
   ]
  },
  {
   "cell_type": "markdown",
   "metadata": {},
   "source": [
    "### Loading mails"
   ]
  },
  {
   "cell_type": "code",
   "execution_count": 7,
   "metadata": {
    "ExecuteTime": {
     "end_time": "2021-05-20T16:31:41.026634Z",
     "start_time": "2021-05-20T16:31:41.018767Z"
    }
   },
   "outputs": [],
   "source": [
    "\n",
    "def load_dataset(dirpath):\n",
    "    \"\"\"load emails from the specified directory\"\"\"\n",
    "\n",
    "    files = []\n",
    "    filepaths = glob.glob(dirpath + '/*')\n",
    "    for path in filepaths:\n",
    "        with open(path, 'rb') as f:\n",
    "            byte_content = f.read()\n",
    "            str_content = byte_content.decode('utf-8', errors='ignore')\n",
    "            files.append(str_content)\n",
    "    return files"
   ]
  },
  {
   "cell_type": "code",
   "execution_count": null,
   "metadata": {
    "ExecuteTime": {
     "start_time": "2021-05-20T18:18:05.123Z"
    }
   },
   "outputs": [],
   "source": [
    "# load the datasets\n",
    "phishing = load_dataset(phishing_dir)\n",
    "phishing = phishing[:1650]\n",
    "print(\"Number of phishing mails: \",len(phishing))\n",
    "ham = load_dataset(ham_dir)\n",
    "ham = ham + load_dataset(hard_ham_dir)\n",
    "print(\"Number of ham mails: \",len(ham))"
   ]
  },
  {
   "cell_type": "markdown",
   "metadata": {
    "ExecuteTime": {
     "end_time": "2021-05-16T13:19:17.396989Z",
     "start_time": "2021-05-16T13:19:17.393719Z"
    }
   },
   "source": [
    "### Mail Features extraction functions"
   ]
  },
  {
   "cell_type": "markdown",
   "metadata": {},
   "source": [
    "#### Mail body features"
   ]
  },
  {
   "cell_type": "code",
   "execution_count": 9,
   "metadata": {
    "ExecuteTime": {
     "end_time": "2021-05-20T16:31:42.110239Z",
     "start_time": "2021-05-20T16:31:42.085867Z"
    }
   },
   "outputs": [],
   "source": [
    "\n",
    "def getMailBody(mail):\n",
    "    try:\n",
    "        mail_body = mailparser.parse_from_string(mail).body.lower()\n",
    "    except UnicodeDecodeError as Argument:\n",
    "        parsed_mail = email.message_from_string(mail)\n",
    "        body = \"\"\n",
    "        if parsed_mail.is_multipart():\n",
    "            for part in parsed_mail.walk():\n",
    "                # returns a bytes object\n",
    "                payload = part.get_payload(decode=True)\n",
    "                strtext = payload.decode()\n",
    "                body += strtext\n",
    "        else:\n",
    "            payload = parsed_mail.get_payload(decode=True)\n",
    "            strtext = payload.decode()\n",
    "            body += strtext\n",
    "        mail_body = body.lower()\n",
    "    return mail_body\n",
    "\n",
    "\n",
    "\n",
    "def presenceHTML(mail):\n",
    "    msg = email.message_from_string(mail)\n",
    "    return ((msg.get_content_type() == 'text/html') == True)\n",
    "\n",
    "\n",
    "def presenceHTMLFORM(message):\n",
    "    return ((re.compile(r'<\\s?\\/?\\s?form\\s?>', re.IGNORECASE).search(message)\n",
    "             != None) == True)\n",
    "\n",
    "\n",
    "def presenceHTMLIFRAME(message):\n",
    "    return re.compile(r'<\\s?\\/?\\s?iframe\\s?>',\n",
    "                      re.IGNORECASE).search(message) != None\n",
    "\n",
    "\n",
    "def presenceJavaScript(message):\n",
    "    return re.compile(r'<\\s?\\/?\\s?script\\s?>',\n",
    "                      re.IGNORECASE).search(message) != None\n",
    "\n",
    "\n",
    "def presenceFlashContent(message):\n",
    "    swflinks = re.compile(\n",
    "        r\"http[s]?://(?:[a-zA-Z]|[0-9]|[$-_@.&+]|[!*\\(\\),]|(?:%[0-9a-fA-F][0-9a-fA-F])+).*\\.swf\",\n",
    "        re.IGNORECASE).findall(message)\n",
    "    flashObject = re.compile(r'embed\\s*src\\s*=\\s*\\\".*\\.swf\\\"',\n",
    "                             re.IGNORECASE).search(message)\n",
    "    return (swflinks != None and len(swflinks) > 0) or (flashObject != None)\n",
    "\n",
    "\n",
    "def presenceGeneralSalutation(message):\n",
    "    return re.compile(GENERAL_SALUTATION,\n",
    "                      re.IGNORECASE).search(message) != None\n",
    "\n",
    "\n",
    "def numberOfAttachments(raw_mail):\n",
    "    try:\n",
    "        mail = mailparser.parse_from_string(raw_mail)\n",
    "        count = len(mail.attachments)\n",
    "        return count\n",
    "    except:\n",
    "        return 0"
   ]
  },
  {
   "cell_type": "markdown",
   "metadata": {},
   "source": [
    "#### URL features"
   ]
  },
  {
   "cell_type": "code",
   "execution_count": 57,
   "metadata": {
    "ExecuteTime": {
     "end_time": "2021-05-20T18:12:15.054625Z",
     "start_time": "2021-05-20T18:12:15.023750Z"
    },
    "scrolled": true
   },
   "outputs": [],
   "source": [
    "    \n",
    "alexa_rank_cache = {}\n",
    "\n",
    "\n",
    "def isURL(link):\n",
    "    return re.compile(URLREGEX, re.IGNORECASE).search(link) is not None\n",
    "\n",
    "\n",
    "def getURLs(mail_body):\n",
    "    result = []\n",
    "    cleanPayload = re.sub(r'\\s+', ' ', mail_body)\n",
    "    soup = BeautifulSoup(cleanPayload, 'html.parser')\n",
    "    links = soup.find_all('a')\n",
    "    i = 0\n",
    "    for link in links:\n",
    "        links[i] = link.get('href')\n",
    "        i += 1\n",
    "\n",
    "    for link in links:\n",
    "        if isinstance(link, str) or isinstance(link, bytes):\n",
    "            if isURL(link):\n",
    "                result.append(link)\n",
    "        else:\n",
    "            continue\n",
    "\n",
    "    urlregex = re.compile(URLREGEX_NOT_ALONE, re.IGNORECASE)\n",
    "    links = urlregex.findall(cleanPayload)\n",
    "\n",
    "    for link in links:\n",
    "        if link not in result:\n",
    "            result.append(link)\n",
    "\n",
    "    res = list(OrderedDict.fromkeys(result))\n",
    "    result = list(set(result))\n",
    "    return result\n",
    "\n",
    "\n",
    "def IPasURL(urls):\n",
    "    result = []\n",
    "    for url in urls:\n",
    "        if re.compile(IPREGEX, re.IGNORECASE).search(url) and re.compile(IPREGEX, re.IGNORECASE).search(url).group(1) is not None:\n",
    "            result.append(re.compile(IPREGEX, re.IGNORECASE).search(url).group(1))\n",
    "    return len(result) > 0\n",
    "\n",
    "\n",
    "def textLinkDisparity(mail_body):\n",
    "    soup = BeautifulSoup(mail_body, 'html.parser')\n",
    "    lists = soup.find_all('a')\n",
    "    for item in lists:\n",
    "        link = item.get('href')\n",
    "        for string in item.stripped_strings:\n",
    "            text = str(string)\n",
    "            text = text.strip().replace('\\n', '')\n",
    "            text = text.strip().replace('\\t', ' ')\n",
    "            if isURL(text) and text != link:\n",
    "                return 1\n",
    "    return 0\n",
    "\n",
    "\n",
    "def maliciousURL(urls):\n",
    "    for url in urls:\n",
    "        if ((re.compile(IPREGEX, re.IGNORECASE).search(url)\n",
    "             is not None) == True or (len(re.compile(r'(https?://)',re.IGNORECASE).findall(url)) > 1)\n",
    "                or (len(re.compile(r'(www.)',re.IGNORECASE).findall(url)) > 1)\n",
    "                or (len(re.compile(r'(\\.com|\\.org|\\.co)',re.IGNORECASE).findall(url)) > 1))== True:\n",
    "            return 1\n",
    "        else:\n",
    "            continue\n",
    "    return 0\n",
    "\n",
    "\n",
    "def hexadecimalURL(urls):\n",
    "    for url in urls:\n",
    "        if ((re.compile(r'%[0-9a-fA-F]+', re.IGNORECASE).search(url)\n",
    "             is not None) == True):\n",
    "            return 1\n",
    "    return 0\n",
    "\n",
    "\n",
    "def getAlexaRank(domain):\n",
    "    if domain in alexa_rank_cache:\n",
    "        return int(alexa_rank_cache[domain])\n",
    "    try:\n",
    "        xml = urllib.request.urlopen(\n",
    "            'http://data.alexa.com/data?cli=10&dat=s&url=%s' %\n",
    "            domain).read().decode('utf-8')\n",
    "    except:\n",
    "        alexa_rank_cache[domain] = 0\n",
    "        return 0\n",
    "    try:\n",
    "        rank = (re.compile(r'RANK=\"(\\d+)\"',re.IGNORECASE).findall(xml))[1]\n",
    "    except:\n",
    "        rank = -1\n",
    "    alexa_rank_cache[domain] = rank\n",
    "    return int(rank)\n",
    "\n",
    "\n",
    "def extractDomains(urls):\n",
    "    domain_set = set()\n",
    "    for url in urls:\n",
    "        domain = tldextract.extract(url).registered_domain\n",
    "        if domain not in domain_set:\n",
    "            domain_set.add(domain)\n",
    "        else:\n",
    "            continue\n",
    "\n",
    "    return list(domain_set)\n",
    "\n",
    "\n",
    "def domainCounts(url):\n",
    "    domains = tldextract.extract(url)\n",
    "    count = (len(re.compile(r'\\.',re.IGNORECASE).findall( domains.subdomain))) + \\\n",
    "        ((len(re.compile(r'\\.',re.IGNORECASE).findall( domains.domain)))+1)\n",
    "    if re.compile(IPREGEX,re.IGNORECASE).search(domains.domain) is not None:\n",
    "        count -= 3\n",
    "    return (count)\n",
    "\n",
    "\n",
    "def presenceBadRankedURL(urls):\n",
    "    domains = extractDomains(urls)\n",
    "    max_rank = 0\n",
    "    for domain in domains:\n",
    "        rank = getAlexaRank(domain)\n",
    "        max_rank = max(rank, max_rank)\n",
    "        if rank == -1:\n",
    "            return 1\n",
    "    if max_rank > 70000:\n",
    "        return 1\n",
    "    return 0\n",
    "\n",
    "\n",
    "def maxDomainsCounts(urls):\n",
    "    count = 1\n",
    "    for url in urls:\n",
    "        count = max(domainCounts(url), count)\n",
    "    return count\n",
    "\n",
    "\n",
    "\n",
    "import json\n",
    "import ast\n",
    "def writeCache():\n",
    "    with open('alexa_rank_cache.txt', 'w') as cache_file:\n",
    "        cache_file.write(json.dumps(alexa_rank_cache))\n",
    "        print(\"Cache written\")\n",
    "        \n",
    "\n",
    "def loadCache():\n",
    "    try:\n",
    "        with open('alexa_rank_cache.txt','r') as cache_file:\n",
    "            cache = ast.literal_eval(cache_file.read())\n",
    "            alexa_rank_cache = cache\n",
    "            print(\"Cache loaded\")\n",
    "    except FileNotFoundError:\n",
    "        print(\"No alexa rank cache found\")\n"
   ]
  },
  {
   "cell_type": "markdown",
   "metadata": {
    "ExecuteTime": {
     "end_time": "2021-05-16T13:23:49.488821Z",
     "start_time": "2021-05-16T13:23:49.486079Z"
    }
   },
   "source": [
    "### Constructing dataset by extracting various features"
   ]
  },
  {
   "cell_type": "code",
   "execution_count": null,
   "metadata": {
    "ExecuteTime": {
     "start_time": "2021-05-20T18:12:16.007Z"
    },
    "scrolled": false
   },
   "outputs": [
    {
     "name": "stdout",
     "output_type": "stream",
     "text": [
      "Cache loaded\n",
      "HAM MAILS\n"
     ]
    }
   ],
   "source": [
    "filename = \"dataset_constructed_now.csv\"\n",
    "fields = [\n",
    "     \"HTML\", \"HTMLForm\", \"IFrame\", \"FlashContent\", \"General Salutation\",\n",
    "    \"Javascript\", \"Number of URLs\", \"Malicious URL\", \"text link disparity\",\n",
    "    \"Attachments\", \"IP URLs\", \"hexadecimal URL\", \"Bad Rank Domain\",\n",
    "    \"Maximum Domains Counts\",\"Class\"\n",
    "]\n",
    "rows = []\n",
    "\n",
    "\n",
    "def constructData(messages, label):\n",
    "    i = 1\n",
    "    for mail in messages:\n",
    "        mail_body = getMailBody(mail)\n",
    "        urls = getURLs(mail_body)\n",
    "        feature = [0] * (len(fields))\n",
    "        i = 0\n",
    "        feature[i]= int(presenceHTML(mail))==True\n",
    "        i+=1\n",
    "        feature[i]= int(presenceHTMLFORM(mail_body))==True\n",
    "        i+=1\n",
    "        feature[i]= int(presenceHTMLIFRAME(mail_body))==True\n",
    "        i+=1\n",
    "        feature[i]= int(presenceFlashContent(mail_body))==True\n",
    "        i+=1\n",
    "        feature[i]= int(presenceGeneralSalutation(mail_body))==True\n",
    "        i+=1\n",
    "        feature[i]= int(presenceJavaScript(mail_body))==True\n",
    "        i+=1\n",
    "        feature[i]= len(urls)\n",
    "        i+=1\n",
    "        feature[i]= int(maliciousURL(urls))==True\n",
    "        i+=1\n",
    "        feature[i]= int(textLinkDisparity(mail_body))==True\n",
    "        i+=1\n",
    "        feature[i] = numberOfAttachments(mail)\n",
    "        i+=1\n",
    "        feature[i] = int(IPasURL(urls))==True\n",
    "        i+=1\n",
    "        feature[i] = int(hexadecimalURL(urls))==True\n",
    "        i+=1\n",
    "        feature[i] = int(presenceBadRankedURL(urls))==True\n",
    "        i+=1\n",
    "        feature[i] = int(maxDomainsCounts(urls))==True\n",
    "        i+=1\n",
    "        feature[i] = label\n",
    "        rows.append(feature)\n",
    "\n",
    "\n",
    "def writeCSV():\n",
    "    with open(filename, 'w', newline='') as csvfile:\n",
    "        print(\"Begining CSV writing\")\n",
    "        # creating a csv writer object\n",
    "        csvwriter = csv.writer(csvfile)\n",
    "\n",
    "        # writing the fields\n",
    "        csvwriter.writerow(fields)\n",
    "\n",
    "        # writing the data rows\n",
    "        csvwriter.writerows(rows)\n",
    "        print(\"WRITTEN CSV\")\n",
    "\n",
    "\n",
    "loadCache()\n",
    "\n",
    "print(\"HAM MAILS\")\n",
    "constructData(ham, \"Ham\")\n",
    "print(\"PHISHING MAILS\")\n",
    "constructData(phishing, \"Phishing\")\n",
    "writeCSV()\n",
    "writeCache()"
   ]
  },
  {
   "cell_type": "markdown",
   "metadata": {},
   "source": [
    "## Exploratory Data Analysis"
   ]
  },
  {
   "cell_type": "markdown",
   "metadata": {},
   "source": [
    "### Visualization: Matplotlib"
   ]
  },
  {
   "cell_type": "code",
   "execution_count": null,
   "metadata": {
    "ExecuteTime": {
     "start_time": "2021-05-20T18:12:19.981Z"
    }
   },
   "outputs": [],
   "source": [
    "import matplotlib.pyplot as plt\n",
    "import numpy as np\n",
    "\n",
    "def visualize_data():\n",
    "        feature_val = np.array(rows).T\n",
    "        xpoints = np.arange(1,2801,1)\n",
    "        for i in range(1,16,1):\n",
    "            ypoints = np.array(feature_val[i])\n",
    "            print(fields[i])          \n",
    "            \n",
    "            plt.xlabel(\"Mails\")\n",
    "            plt.plot(xpoints, ypoints)\n",
    "            plt.show()\n",
    "        \n",
    "visualize_data()"
   ]
  },
  {
   "cell_type": "markdown",
   "metadata": {},
   "source": [
    "### Histogram, PDF and CDF"
   ]
  },
  {
   "cell_type": "code",
   "execution_count": null,
   "metadata": {
    "ExecuteTime": {
     "start_time": "2021-05-20T18:12:20.894Z"
    }
   },
   "outputs": [],
   "source": [
    "import seaborn as sns\n",
    "import matplotlib.pyplot as plt\n",
    "import numpy as np\n",
    "import pandas as pd\n",
    "\n",
    "\n",
    "mails = pd.read_csv('dataset_constructed_now.csv')\n",
    "\n",
    "columns = mails.columns[1:]\n",
    "for column in columns:\n",
    "    sns.FacetGrid(mails, hue=\"Class\", size=5) \\\n",
    "       .map(sns.distplot, column) \\\n",
    "       .add_legend();\n",
    "    plt.show();\n"
   ]
  },
  {
   "cell_type": "markdown",
   "metadata": {},
   "source": [
    "### Violin plots"
   ]
  },
  {
   "cell_type": "code",
   "execution_count": null,
   "metadata": {
    "ExecuteTime": {
     "start_time": "2021-05-20T18:12:21.632Z"
    }
   },
   "outputs": [],
   "source": [
    "\n",
    "for column in columns:\n",
    "    sns.violinplot(x=\"Class\", y=column, data=mails, size=8)\n",
    "    plt.show()\n",
    "  \n"
   ]
  },
  {
   "cell_type": "markdown",
   "metadata": {},
   "source": [
    "### Principal Component Analysis"
   ]
  },
  {
   "cell_type": "markdown",
   "metadata": {},
   "source": [
    "#### PCA for visualization"
   ]
  },
  {
   "cell_type": "code",
   "execution_count": null,
   "metadata": {
    "ExecuteTime": {
     "start_time": "2021-05-20T18:12:22.911Z"
    }
   },
   "outputs": [],
   "source": [
    "import numpy as np\n",
    "import pandas as pd\n",
    "import matplotlib.pyplot as plt\n",
    "from sklearn.utils import shuffle\n",
    "\n",
    "d0 = mails.copy(deep=True)\n",
    "dataFrame = shuffle(d0)\n",
    "print(dataFrame['Class'].shape)\n",
    "data = dataFrame[:1000]\n",
    "labels = data['Class']\n",
    "\n",
    "# Drop the label feature and store the pixel data in d.\n",
    "data = data.drop(\"Class\",axis=1)\n",
    "print(labels.shape)\n",
    "print(data.shape)\n",
    "print(dataFrame.head())\n"
   ]
  },
  {
   "cell_type": "code",
   "execution_count": null,
   "metadata": {
    "ExecuteTime": {
     "start_time": "2021-05-20T18:12:23.342Z"
    }
   },
   "outputs": [],
   "source": [
    "# initializing the pca\n",
    "from sklearn import decomposition\n",
    "import seaborn as sn\n",
    "from sklearn.preprocessing import StandardScaler\n",
    "\n",
    "standardized_data = StandardScaler().fit_transform(data)\n",
    "print(standardized_data.shape)\n",
    "data  = standardized_data\n",
    "pca = decomposition.PCA()\n",
    "\n",
    "# configuring the parameteres\n",
    "# the number of components = 2\n",
    "pca.n_components = 2\n",
    "pca_data = pca.fit_transform(data)\n",
    "\n",
    "# pca_reduced will contain the 2-d projects of simple data\n",
    "print(\"shape of pca_reduced.shape = \", pca_data.shape)\n",
    "\n",
    "# attaching the label for each 2-d data point \n",
    "pca_data = np.vstack((pca_data.T, labels)).T"
   ]
  },
  {
   "cell_type": "code",
   "execution_count": null,
   "metadata": {
    "ExecuteTime": {
     "start_time": "2021-05-20T18:12:23.782Z"
    }
   },
   "outputs": [],
   "source": [
    "# creating a new data fram which help us in ploting the result data\n",
    "pca_df = pd.DataFrame(data=pca_data, columns=(\"1st_principal\", \"2nd_principal\", \"label\"))\n",
    "sn.FacetGrid(pca_df, hue=\"label\", size=6).map(plt.scatter, '1st_principal', '2nd_principal').add_legend()\n",
    "plt.show()"
   ]
  },
  {
   "cell_type": "markdown",
   "metadata": {
    "ExecuteTime": {
     "end_time": "2021-05-18T18:01:41.799657Z",
     "start_time": "2021-05-18T18:01:41.794708Z"
    }
   },
   "source": [
    "#### PCA for dimentionality reduction"
   ]
  },
  {
   "cell_type": "code",
   "execution_count": null,
   "metadata": {
    "ExecuteTime": {
     "start_time": "2021-05-20T18:12:24.578Z"
    }
   },
   "outputs": [],
   "source": [
    "# PCA for dimensionality redcution (non-visualization)\n",
    "\n",
    "pca.n_components = 14\n",
    "pca_data = pca.fit_transform(data)\n",
    "\n",
    "percentage_var_explained = pca.explained_variance_ / np.sum(pca.explained_variance_);\n",
    "\n",
    "cum_var_explained = np.cumsum(percentage_var_explained)\n",
    "\n",
    "# Plot the PCA spectrum\n",
    "plt.figure(1, figsize=(6, 4))\n",
    "\n",
    "plt.clf()\n",
    "plt.plot(cum_var_explained, linewidth=2)\n",
    "plt.axis('tight')\n",
    "plt.grid()\n",
    "plt.xlabel('n_components')\n",
    "plt.ylabel('Cumulative_explained_variance')\n",
    "plt.show()\n",
    "\n",
    "\n",
    "# If we take 9-dimensions, approx. 90% of variance is expalined."
   ]
  },
  {
   "cell_type": "markdown",
   "metadata": {},
   "source": [
    "As we can see from the graph, if we take 10 features we are preserving more than 90% variance."
   ]
  },
  {
   "cell_type": "markdown",
   "metadata": {},
   "source": [
    "### t-SNE using Scikit-Learn"
   ]
  },
  {
   "cell_type": "code",
   "execution_count": null,
   "metadata": {
    "ExecuteTime": {
     "start_time": "2021-05-20T18:12:26.304Z"
    }
   },
   "outputs": [],
   "source": [
    "# TSNE\n",
    "\n",
    "from sklearn.manifold import TSNE\n",
    "\n",
    "\n",
    "model = TSNE(n_components=2, random_state=0)\n",
    "# configuring the parameteres\n",
    "# the number of components = 2\n",
    "# default perplexity = 30\n",
    "# default learning rate = 200\n",
    "# default Maximum number of iterations for the optimization = 1000\n",
    "\n",
    "tsne_data = model.fit_transform(data)\n",
    "\n",
    "\n",
    "# creating a new data frame which help us in ploting the result data\n",
    "tsne_data = np.vstack((tsne_data.T, labels)).T\n",
    "tsne_df = pd.DataFrame(data=tsne_data, columns=(\"Dim_1\", \"Dim_2\", \"label\"))\n",
    "\n",
    "# Ploting the result of tsne\n",
    "sn.FacetGrid(tsne_df, hue=\"label\", size=6).map(plt.scatter, 'Dim_1', 'Dim_2').add_legend()\n",
    "plt.show()"
   ]
  },
  {
   "cell_type": "code",
   "execution_count": 31,
   "metadata": {
    "ExecuteTime": {
     "end_time": "2021-05-20T17:20:37.853894Z",
     "start_time": "2021-05-20T17:20:37.817711Z"
    }
   },
   "outputs": [
    {
     "ename": "TypeError",
     "evalue": "unhashable type: 'numpy.ndarray'",
     "output_type": "error",
     "traceback": [
      "\u001b[0;31m---------------------------------------------------------------------------\u001b[0m",
      "\u001b[0;31mTypeError\u001b[0m                                 Traceback (most recent call last)",
      "\u001b[0;32m<ipython-input-31-c2dd38ac5c34>\u001b[0m in \u001b[0;36m<module>\u001b[0;34m\u001b[0m\n\u001b[1;32m     11\u001b[0m \u001b[0msvd_data\u001b[0m \u001b[0;34m=\u001b[0m \u001b[0mnp\u001b[0m\u001b[0;34m.\u001b[0m\u001b[0mvstack\u001b[0m\u001b[0;34m(\u001b[0m\u001b[0;34m(\u001b[0m\u001b[0msvd_data\u001b[0m\u001b[0;34m.\u001b[0m\u001b[0mT\u001b[0m\u001b[0;34m,\u001b[0m \u001b[0mlabels\u001b[0m\u001b[0;34m)\u001b[0m\u001b[0;34m)\u001b[0m\u001b[0;34m.\u001b[0m\u001b[0mT\u001b[0m\u001b[0;34m\u001b[0m\u001b[0;34m\u001b[0m\u001b[0m\n\u001b[1;32m     12\u001b[0m \u001b[0msvd_df\u001b[0m \u001b[0;34m=\u001b[0m \u001b[0mpd\u001b[0m\u001b[0;34m.\u001b[0m\u001b[0mDataFrame\u001b[0m\u001b[0;34m(\u001b[0m\u001b[0mdata\u001b[0m\u001b[0;34m=\u001b[0m\u001b[0msvd_data\u001b[0m\u001b[0;34m,\u001b[0m \u001b[0mcolumns\u001b[0m\u001b[0;34m=\u001b[0m\u001b[0;34m(\u001b[0m\u001b[0;34m\"Dim_1\"\u001b[0m\u001b[0;34m,\u001b[0m \u001b[0;34m\"Dim_2\"\u001b[0m\u001b[0;34m,\u001b[0m\u001b[0;34m\"Dim_3\"\u001b[0m\u001b[0;34m,\u001b[0m\u001b[0;34m\"Dim_4\"\u001b[0m\u001b[0;34m,\u001b[0m\u001b[0;34m\"Dim_5\"\u001b[0m\u001b[0;34m,\u001b[0m \u001b[0;34m\"label\"\u001b[0m\u001b[0;34m)\u001b[0m\u001b[0;34m)\u001b[0m\u001b[0;34m\u001b[0m\u001b[0;34m\u001b[0m\u001b[0m\n\u001b[0;32m---> 13\u001b[0;31m \u001b[0mpalette\u001b[0m \u001b[0;34m=\u001b[0m \u001b[0mdict\u001b[0m\u001b[0;34m(\u001b[0m\u001b[0mzip\u001b[0m\u001b[0;34m(\u001b[0m\u001b[0msvd_data\u001b[0m\u001b[0;34m,\u001b[0m \u001b[0msns\u001b[0m\u001b[0;34m.\u001b[0m\u001b[0mcolor_palette\u001b[0m\u001b[0;34m(\u001b[0m\u001b[0mn_colors\u001b[0m\u001b[0;34m=\u001b[0m\u001b[0mlen\u001b[0m\u001b[0;34m(\u001b[0m\u001b[0msvd_data\u001b[0m\u001b[0;34m)\u001b[0m\u001b[0;34m)\u001b[0m\u001b[0;34m)\u001b[0m\u001b[0;34m)\u001b[0m\u001b[0;34m\u001b[0m\u001b[0;34m\u001b[0m\u001b[0m\n\u001b[0m\u001b[1;32m     14\u001b[0m \u001b[0;31m# palette.update({\"Total\":\"k\"})\u001b[0m\u001b[0;34m\u001b[0m\u001b[0;34m\u001b[0m\u001b[0;34m\u001b[0m\u001b[0m\n\u001b[1;32m     15\u001b[0m \u001b[0;31m# Ploting the result of tsne\u001b[0m\u001b[0;34m\u001b[0m\u001b[0;34m\u001b[0m\u001b[0;34m\u001b[0m\u001b[0m\n",
      "\u001b[0;31mTypeError\u001b[0m: unhashable type: 'numpy.ndarray'"
     ]
    }
   ],
   "source": [
    "from sklearn.decomposition import TruncatedSVD\n",
    "import seaborn as sns\n",
    "svd = TruncatedSVD(n_components=5, n_iter=7, random_state=42)\n",
    "svd_data = svd.fit_transform(data)\n",
    "# model = TSNE(n_components=3, random_state=0, perplexity=50)\n",
    "\n",
    "# tsne_data = model.fit_transform(data)\n",
    "# print(\"shape = \",tsne_data.shape)\n",
    "\n",
    "# creating a new data frame which help us in ploting the result data\n",
    "svd_data = np.vstack((svd_data.T, labels)).T\n",
    "svd_df = pd.DataFrame(data=svd_data, columns=(\"Dim_1\", \"Dim_2\",\"Dim_3\",\"Dim_4\",\"Dim_5\", \"label\"))\n",
    "palette = dict(zip(svd_data, sns.color_palette(n_colors=len(svd_data))))\n",
    "# palette.update({\"Total\":\"k\"})\n",
    "# Ploting the result of tsne\n",
    "sn.FacetGrid(svd_df, hue=\"label\",palette=palette, size=6).map(plt.scatter, 'Dim_1', 'Dim_2',\"Dim_3\",\"Dim_4\",\"Dim_5\").add_legend()\n",
    "plt.show()"
   ]
  },
  {
   "cell_type": "code",
   "execution_count": 32,
   "metadata": {
    "ExecuteTime": {
     "end_time": "2021-05-20T17:25:30.420461Z",
     "start_time": "2021-05-20T17:24:58.422880Z"
    }
   },
   "outputs": [
    {
     "data": {
      "image/png": "[encoded data removed]",
      "text/plain": [
       "<Figure size 484x432 with 1 Axes>"
      ]
     },
     "metadata": {
      "needs_background": "light"
     },
     "output_type": "display_data"
    }
   ],
   "source": [
    "model = TSNE(n_components=2, random_state=0, perplexity=50,  n_iter=5000)\n",
    "\n",
    "tsne_data = model.fit_transform(data)\n",
    "\n",
    "\n",
    "# creating a new data frame which help us in ploting the result data\n",
    "tsne_data = np.vstack((tsne_data.T, labels)).T\n",
    "tsne_df = pd.DataFrame(data=tsne_data, columns=(\"Dim_1\", \"Dim_2\", \"label\"))\n",
    "\n",
    "# Ploting the result of tsne\n",
    "sn.FacetGrid(tsne_df, hue=\"label\", size=6).map(plt.scatter, 'Dim_1', 'Dim_2').add_legend()\n",
    "plt.show()"
   ]
  },
  {
   "cell_type": "code",
   "execution_count": 33,
   "metadata": {
    "ExecuteTime": {
     "end_time": "2021-05-20T17:25:42.127551Z",
     "start_time": "2021-05-20T17:25:31.537841Z"
    }
   },
   "outputs": [
    {
     "data": {
      "image/png": "[encoded data removed]",
      "text/plain": [
       "<Figure size 484x432 with 1 Axes>"
      ]
     },
     "metadata": {
      "needs_background": "light"
     },
     "output_type": "display_data"
    }
   ],
   "source": [
    "model = TSNE(n_components=2, random_state=0, perplexity=50)\n",
    "tsne_data = model.fit_transform(data)\n",
    "\n",
    "\n",
    "# creating a new data frame which help us in ploting the result data\n",
    "tsne_data = np.vstack((tsne_data.T, labels)).T\n",
    "tsne_df = pd.DataFrame(data=tsne_data, columns=(\"Dim_1\", \"Dim_2\", \"label\"))\n",
    "\n",
    "# Ploting the result of tsne\n",
    "sn.FacetGrid(tsne_df, hue=\"label\", size=6).map(plt.scatter, 'Dim_1', 'Dim_2').add_legend()\n",
    "plt.show()"
   ]
  },
  {
   "cell_type": "code",
   "execution_count": 37,
   "metadata": {
    "ExecuteTime": {
     "end_time": "2021-05-20T17:40:10.194958Z",
     "start_time": "2021-05-20T17:40:10.151539Z"
    }
   },
   "outputs": [
    {
     "name": "stdout",
     "output_type": "stream",
     "text": [
      "          Class   HTML  HTMLForm  IFrame  FlashContent  General Salutation  \\\n",
      "Phishing  False  False     False   False          True               False   \n",
      "Ham       False  False     False   False         False               False   \n",
      "Ham       False  False     False   False         False               False   \n",
      "Ham       False   True     False   False         False               False   \n",
      "Phishing  False  False     False   False          True               False   \n",
      "\n",
      "          Javascript  Number of URLs  Malicious URL  text link disparity  \\\n",
      "Phishing           2               1              0                    0   \n",
      "Ham                2               0              0                    0   \n",
      "Ham                1               0              0                    0   \n",
      "Ham               78               1              0                    0   \n",
      "Phishing           2               1              0                    0   \n",
      "\n",
      "          Attachments  IP URLs  hexadecimal URL  Bad Rank Domain  \\\n",
      "Phishing        False        0                1                1   \n",
      "Ham             False        0                1                1   \n",
      "Ham             False        0                1                1   \n",
      "Ham             False        1                1                2   \n",
      "Phishing         True        0                1                1   \n",
      "\n",
      "          Maximum Domains Counts  \n",
      "Phishing                       0  \n",
      "Ham                            0  \n",
      "Ham                            0  \n",
      "Ham                            0  \n",
      "Phishing                       0  \n"
     ]
    },
    {
     "ename": "TypeError",
     "evalue": "Cannot compare types 'ndarray(dtype=bool)' and 'str'",
     "output_type": "error",
     "traceback": [
      "\u001b[0;31m---------------------------------------------------------------------------\u001b[0m",
      "\u001b[0;31mTypeError\u001b[0m                                 Traceback (most recent call last)",
      "\u001b[0;32m<ipython-input-37-900210a53fb6>\u001b[0m in \u001b[0;36m<module>\u001b[0;34m\u001b[0m\n\u001b[1;32m      4\u001b[0m \u001b[0mmodel\u001b[0m \u001b[0;34m=\u001b[0m \u001b[0mRandomForestRegressor\u001b[0m\u001b[0;34m(\u001b[0m\u001b[0mrandom_state\u001b[0m\u001b[0;34m=\u001b[0m\u001b[0;36m1\u001b[0m\u001b[0;34m,\u001b[0m \u001b[0mmax_depth\u001b[0m\u001b[0;34m=\u001b[0m\u001b[0;36m10\u001b[0m\u001b[0;34m)\u001b[0m\u001b[0;34m\u001b[0m\u001b[0;34m\u001b[0m\u001b[0m\n\u001b[1;32m      5\u001b[0m \u001b[0mdic\u001b[0m \u001b[0;34m=\u001b[0m \u001b[0;34m{\u001b[0m\u001b[0;34m\"Ham\"\u001b[0m\u001b[0;34m:\u001b[0m \u001b[0;36m0\u001b[0m\u001b[0;34m,\u001b[0m\u001b[0;34m\"Phishing\"\u001b[0m\u001b[0;34m:\u001b[0m \u001b[0;36m1\u001b[0m\u001b[0;34m}\u001b[0m\u001b[0;34m\u001b[0m\u001b[0;34m\u001b[0m\u001b[0m\n\u001b[0;32m----> 6\u001b[0;31m \u001b[0mdf\u001b[0m\u001b[0;34m[\u001b[0m\u001b[0;34m'Class'\u001b[0m\u001b[0;34m]\u001b[0m\u001b[0;34m=\u001b[0m \u001b[0mdf\u001b[0m\u001b[0;34m[\u001b[0m\u001b[0;34m'Class'\u001b[0m\u001b[0;34m]\u001b[0m\u001b[0;34m.\u001b[0m\u001b[0mreplace\u001b[0m\u001b[0;34m(\u001b[0m\u001b[0mdic\u001b[0m\u001b[0;34m)\u001b[0m\u001b[0;34m\u001b[0m\u001b[0;34m\u001b[0m\u001b[0m\n\u001b[0m\u001b[1;32m      7\u001b[0m \u001b[0mlabels\u001b[0m \u001b[0;34m=\u001b[0m \u001b[0mdf\u001b[0m\u001b[0;34m[\u001b[0m\u001b[0;34m'Class'\u001b[0m\u001b[0;34m]\u001b[0m\u001b[0;34m\u001b[0m\u001b[0;34m\u001b[0m\u001b[0m\n\u001b[1;32m      8\u001b[0m \u001b[0mdf\u001b[0m \u001b[0;34m=\u001b[0m \u001b[0mdf\u001b[0m\u001b[0;34m.\u001b[0m\u001b[0mdrop\u001b[0m\u001b[0;34m(\u001b[0m\u001b[0;34m'Class'\u001b[0m\u001b[0;34m,\u001b[0m\u001b[0maxis\u001b[0m \u001b[0;34m=\u001b[0m \u001b[0;36m1\u001b[0m\u001b[0;34m)\u001b[0m\u001b[0;34m\u001b[0m\u001b[0;34m\u001b[0m\u001b[0m\n",
      "\u001b[0;32m~/anaconda3/lib/python3.8/site-packages/pandas/core/series.py\u001b[0m in \u001b[0;36mreplace\u001b[0;34m(self, to_replace, value, inplace, limit, regex, method)\u001b[0m\n\u001b[1;32m   4561\u001b[0m         \u001b[0mmethod\u001b[0m\u001b[0;34m=\u001b[0m\u001b[0;34m\"pad\"\u001b[0m\u001b[0;34m,\u001b[0m\u001b[0;34m\u001b[0m\u001b[0;34m\u001b[0m\u001b[0m\n\u001b[1;32m   4562\u001b[0m     ):\n\u001b[0;32m-> 4563\u001b[0;31m         return super().replace(\n\u001b[0m\u001b[1;32m   4564\u001b[0m             \u001b[0mto_replace\u001b[0m\u001b[0;34m=\u001b[0m\u001b[0mto_replace\u001b[0m\u001b[0;34m,\u001b[0m\u001b[0;34m\u001b[0m\u001b[0;34m\u001b[0m\u001b[0m\n\u001b[1;32m   4565\u001b[0m             \u001b[0mvalue\u001b[0m\u001b[0;34m=\u001b[0m\u001b[0mvalue\u001b[0m\u001b[0;34m,\u001b[0m\u001b[0;34m\u001b[0m\u001b[0;34m\u001b[0m\u001b[0m\n",
      "\u001b[0;32m~/anaconda3/lib/python3.8/site-packages/pandas/core/generic.py\u001b[0m in \u001b[0;36mreplace\u001b[0;34m(self, to_replace, value, inplace, limit, regex, method)\u001b[0m\n\u001b[1;32m   6498\u001b[0m                 \u001b[0mto_replace\u001b[0m\u001b[0;34m,\u001b[0m \u001b[0mvalue\u001b[0m \u001b[0;34m=\u001b[0m \u001b[0mkeys\u001b[0m\u001b[0;34m,\u001b[0m \u001b[0mvalues\u001b[0m\u001b[0;34m\u001b[0m\u001b[0;34m\u001b[0m\u001b[0m\n\u001b[1;32m   6499\u001b[0m \u001b[0;34m\u001b[0m\u001b[0m\n\u001b[0;32m-> 6500\u001b[0;31m             return self.replace(\n\u001b[0m\u001b[1;32m   6501\u001b[0m                 \u001b[0mto_replace\u001b[0m\u001b[0;34m,\u001b[0m \u001b[0mvalue\u001b[0m\u001b[0;34m,\u001b[0m \u001b[0minplace\u001b[0m\u001b[0;34m=\u001b[0m\u001b[0minplace\u001b[0m\u001b[0;34m,\u001b[0m \u001b[0mlimit\u001b[0m\u001b[0;34m=\u001b[0m\u001b[0mlimit\u001b[0m\u001b[0;34m,\u001b[0m \u001b[0mregex\u001b[0m\u001b[0;34m=\u001b[0m\u001b[0mregex\u001b[0m\u001b[0;34m\u001b[0m\u001b[0;34m\u001b[0m\u001b[0m\n\u001b[1;32m   6502\u001b[0m             )\n",
      "\u001b[0;32m~/anaconda3/lib/python3.8/site-packages/pandas/core/series.py\u001b[0m in \u001b[0;36mreplace\u001b[0;34m(self, to_replace, value, inplace, limit, regex, method)\u001b[0m\n\u001b[1;32m   4561\u001b[0m         \u001b[0mmethod\u001b[0m\u001b[0;34m=\u001b[0m\u001b[0;34m\"pad\"\u001b[0m\u001b[0;34m,\u001b[0m\u001b[0;34m\u001b[0m\u001b[0;34m\u001b[0m\u001b[0m\n\u001b[1;32m   4562\u001b[0m     ):\n\u001b[0;32m-> 4563\u001b[0;31m         return super().replace(\n\u001b[0m\u001b[1;32m   4564\u001b[0m             \u001b[0mto_replace\u001b[0m\u001b[0;34m=\u001b[0m\u001b[0mto_replace\u001b[0m\u001b[0;34m,\u001b[0m\u001b[0;34m\u001b[0m\u001b[0;34m\u001b[0m\u001b[0m\n\u001b[1;32m   4565\u001b[0m             \u001b[0mvalue\u001b[0m\u001b[0;34m=\u001b[0m\u001b[0mvalue\u001b[0m\u001b[0;34m,\u001b[0m\u001b[0;34m\u001b[0m\u001b[0;34m\u001b[0m\u001b[0m\n",
      "\u001b[0;32m~/anaconda3/lib/python3.8/site-packages/pandas/core/generic.py\u001b[0m in \u001b[0;36mreplace\u001b[0;34m(self, to_replace, value, inplace, limit, regex, method)\u001b[0m\n\u001b[1;32m   6541\u001b[0m                         )\n\u001b[1;32m   6542\u001b[0m                     \u001b[0mself\u001b[0m\u001b[0;34m.\u001b[0m\u001b[0m_consolidate_inplace\u001b[0m\u001b[0;34m(\u001b[0m\u001b[0;34m)\u001b[0m\u001b[0;34m\u001b[0m\u001b[0;34m\u001b[0m\u001b[0m\n\u001b[0;32m-> 6543\u001b[0;31m                     new_data = self._mgr.replace_list(\n\u001b[0m\u001b[1;32m   6544\u001b[0m                         \u001b[0msrc_list\u001b[0m\u001b[0;34m=\u001b[0m\u001b[0mto_replace\u001b[0m\u001b[0;34m,\u001b[0m\u001b[0;34m\u001b[0m\u001b[0;34m\u001b[0m\u001b[0m\n\u001b[1;32m   6545\u001b[0m                         \u001b[0mdest_list\u001b[0m\u001b[0;34m=\u001b[0m\u001b[0mvalue\u001b[0m\u001b[0;34m,\u001b[0m\u001b[0;34m\u001b[0m\u001b[0;34m\u001b[0m\u001b[0m\n",
      "\u001b[0;32m~/anaconda3/lib/python3.8/site-packages/pandas/core/internals/managers.py\u001b[0m in \u001b[0;36mreplace_list\u001b[0;34m(self, src_list, dest_list, inplace, regex)\u001b[0m\n\u001b[1;32m    640\u001b[0m         \u001b[0mmask\u001b[0m \u001b[0;34m=\u001b[0m \u001b[0;34m~\u001b[0m\u001b[0misna\u001b[0m\u001b[0;34m(\u001b[0m\u001b[0mvalues\u001b[0m\u001b[0;34m)\u001b[0m\u001b[0;34m\u001b[0m\u001b[0;34m\u001b[0m\u001b[0m\n\u001b[1;32m    641\u001b[0m \u001b[0;34m\u001b[0m\u001b[0m\n\u001b[0;32m--> 642\u001b[0;31m         \u001b[0mmasks\u001b[0m \u001b[0;34m=\u001b[0m \u001b[0;34m[\u001b[0m\u001b[0mcomp\u001b[0m\u001b[0;34m(\u001b[0m\u001b[0ms\u001b[0m\u001b[0;34m,\u001b[0m \u001b[0mmask\u001b[0m\u001b[0;34m,\u001b[0m \u001b[0mregex\u001b[0m\u001b[0;34m)\u001b[0m \u001b[0;32mfor\u001b[0m \u001b[0ms\u001b[0m \u001b[0;32min\u001b[0m \u001b[0msrc_list\u001b[0m\u001b[0;34m]\u001b[0m\u001b[0;34m\u001b[0m\u001b[0;34m\u001b[0m\u001b[0m\n\u001b[0m\u001b[1;32m    643\u001b[0m \u001b[0;34m\u001b[0m\u001b[0m\n\u001b[1;32m    644\u001b[0m         \u001b[0mresult_blocks\u001b[0m \u001b[0;34m=\u001b[0m \u001b[0;34m[\u001b[0m\u001b[0;34m]\u001b[0m\u001b[0;34m\u001b[0m\u001b[0;34m\u001b[0m\u001b[0m\n",
      "\u001b[0;32m~/anaconda3/lib/python3.8/site-packages/pandas/core/internals/managers.py\u001b[0m in \u001b[0;36m<listcomp>\u001b[0;34m(.0)\u001b[0m\n\u001b[1;32m    640\u001b[0m         \u001b[0mmask\u001b[0m \u001b[0;34m=\u001b[0m \u001b[0;34m~\u001b[0m\u001b[0misna\u001b[0m\u001b[0;34m(\u001b[0m\u001b[0mvalues\u001b[0m\u001b[0;34m)\u001b[0m\u001b[0;34m\u001b[0m\u001b[0;34m\u001b[0m\u001b[0m\n\u001b[1;32m    641\u001b[0m \u001b[0;34m\u001b[0m\u001b[0m\n\u001b[0;32m--> 642\u001b[0;31m         \u001b[0mmasks\u001b[0m \u001b[0;34m=\u001b[0m \u001b[0;34m[\u001b[0m\u001b[0mcomp\u001b[0m\u001b[0;34m(\u001b[0m\u001b[0ms\u001b[0m\u001b[0;34m,\u001b[0m \u001b[0mmask\u001b[0m\u001b[0;34m,\u001b[0m \u001b[0mregex\u001b[0m\u001b[0;34m)\u001b[0m \u001b[0;32mfor\u001b[0m \u001b[0ms\u001b[0m \u001b[0;32min\u001b[0m \u001b[0msrc_list\u001b[0m\u001b[0;34m]\u001b[0m\u001b[0;34m\u001b[0m\u001b[0;34m\u001b[0m\u001b[0m\n\u001b[0m\u001b[1;32m    643\u001b[0m \u001b[0;34m\u001b[0m\u001b[0m\n\u001b[1;32m    644\u001b[0m         \u001b[0mresult_blocks\u001b[0m \u001b[0;34m=\u001b[0m \u001b[0;34m[\u001b[0m\u001b[0;34m]\u001b[0m\u001b[0;34m\u001b[0m\u001b[0;34m\u001b[0m\u001b[0m\n",
      "\u001b[0;32m~/anaconda3/lib/python3.8/site-packages/pandas/core/internals/managers.py\u001b[0m in \u001b[0;36mcomp\u001b[0;34m(s, mask, regex)\u001b[0m\n\u001b[1;32m    634\u001b[0m \u001b[0;34m\u001b[0m\u001b[0m\n\u001b[1;32m    635\u001b[0m             \u001b[0ms\u001b[0m \u001b[0;34m=\u001b[0m \u001b[0mcom\u001b[0m\u001b[0;34m.\u001b[0m\u001b[0mmaybe_box_datetimelike\u001b[0m\u001b[0;34m(\u001b[0m\u001b[0ms\u001b[0m\u001b[0;34m)\u001b[0m\u001b[0;34m\u001b[0m\u001b[0;34m\u001b[0m\u001b[0m\n\u001b[0;32m--> 636\u001b[0;31m             \u001b[0;32mreturn\u001b[0m \u001b[0m_compare_or_regex_search\u001b[0m\u001b[0;34m(\u001b[0m\u001b[0mvalues\u001b[0m\u001b[0;34m,\u001b[0m \u001b[0ms\u001b[0m\u001b[0;34m,\u001b[0m \u001b[0mregex\u001b[0m\u001b[0;34m,\u001b[0m \u001b[0mmask\u001b[0m\u001b[0;34m)\u001b[0m\u001b[0;34m\u001b[0m\u001b[0;34m\u001b[0m\u001b[0m\n\u001b[0m\u001b[1;32m    637\u001b[0m \u001b[0;34m\u001b[0m\u001b[0m\n\u001b[1;32m    638\u001b[0m         \u001b[0;31m# Calculate the mask once, prior to the call of comp\u001b[0m\u001b[0;34m\u001b[0m\u001b[0;34m\u001b[0m\u001b[0;34m\u001b[0m\u001b[0m\n",
      "\u001b[0;32m~/anaconda3/lib/python3.8/site-packages/pandas/core/internals/managers.py\u001b[0m in \u001b[0;36m_compare_or_regex_search\u001b[0;34m(a, b, regex, mask)\u001b[0m\n\u001b[1;32m   1990\u001b[0m     \u001b[0;32mif\u001b[0m \u001b[0mis_datetimelike_v_numeric\u001b[0m\u001b[0;34m(\u001b[0m\u001b[0ma\u001b[0m\u001b[0;34m,\u001b[0m \u001b[0mb\u001b[0m\u001b[0;34m)\u001b[0m \u001b[0;32mor\u001b[0m \u001b[0mis_numeric_v_string_like\u001b[0m\u001b[0;34m(\u001b[0m\u001b[0ma\u001b[0m\u001b[0;34m,\u001b[0m \u001b[0mb\u001b[0m\u001b[0;34m)\u001b[0m\u001b[0;34m:\u001b[0m\u001b[0;34m\u001b[0m\u001b[0;34m\u001b[0m\u001b[0m\n\u001b[1;32m   1991\u001b[0m         \u001b[0;31m# GH#29553 avoid deprecation warnings from numpy\u001b[0m\u001b[0;34m\u001b[0m\u001b[0;34m\u001b[0m\u001b[0;34m\u001b[0m\u001b[0m\n\u001b[0;32m-> 1992\u001b[0;31m         \u001b[0m_check_comparison_types\u001b[0m\u001b[0;34m(\u001b[0m\u001b[0;32mFalse\u001b[0m\u001b[0;34m,\u001b[0m \u001b[0ma\u001b[0m\u001b[0;34m,\u001b[0m \u001b[0mb\u001b[0m\u001b[0;34m)\u001b[0m\u001b[0;34m\u001b[0m\u001b[0;34m\u001b[0m\u001b[0m\n\u001b[0m\u001b[1;32m   1993\u001b[0m         \u001b[0;32mreturn\u001b[0m \u001b[0;32mFalse\u001b[0m\u001b[0;34m\u001b[0m\u001b[0;34m\u001b[0m\u001b[0m\n\u001b[1;32m   1994\u001b[0m \u001b[0;34m\u001b[0m\u001b[0m\n",
      "\u001b[0;32m~/anaconda3/lib/python3.8/site-packages/pandas/core/internals/managers.py\u001b[0m in \u001b[0;36m_check_comparison_types\u001b[0;34m(result, a, b)\u001b[0m\n\u001b[1;32m   1969\u001b[0m                 \u001b[0mtype_names\u001b[0m\u001b[0;34m[\u001b[0m\u001b[0;36m0\u001b[0m\u001b[0;34m]\u001b[0m \u001b[0;34m=\u001b[0m \u001b[0;34mf\"ndarray(dtype={a.dtype})\"\u001b[0m\u001b[0;34m\u001b[0m\u001b[0;34m\u001b[0m\u001b[0m\n\u001b[1;32m   1970\u001b[0m \u001b[0;34m\u001b[0m\u001b[0m\n\u001b[0;32m-> 1971\u001b[0;31m             raise TypeError(\n\u001b[0m\u001b[1;32m   1972\u001b[0m                 \u001b[0;34mf\"Cannot compare types {repr(type_names[0])} and {repr(type_names[1])}\"\u001b[0m\u001b[0;34m\u001b[0m\u001b[0;34m\u001b[0m\u001b[0m\n\u001b[1;32m   1973\u001b[0m             )\n",
      "\u001b[0;31mTypeError\u001b[0m: Cannot compare types 'ndarray(dtype=bool)' and 'str'"
     ]
    }
   ],
   "source": [
    "from sklearn.ensemble import RandomForestRegressor\n",
    "df = dataFrame.copy(deep=True)\n",
    "print(df.head())\n",
    "model = RandomForestRegressor(random_state=1, max_depth=10)\n",
    "dic = {\"Ham\": 0,\"Phishing\": 1}\n",
    "df['Class']= df['Class'].replace(dic)\n",
    "labels = df['Class']\n",
    "df = df.drop('Class',axis = 1)\n",
    "print(df.shape,labels.shape)\n",
    "model.fit(df,labels)"
   ]
  },
  {
   "cell_type": "code",
   "execution_count": null,
   "metadata": {
    "ExecuteTime": {
     "end_time": "2021-05-20T17:25:43.241344Z",
     "start_time": "2021-05-20T17:25:04.075Z"
    }
   },
   "outputs": [],
   "source": [
    "features = df.columns\n",
    "print(features)\n",
    "importances = model.feature_importances_\n",
    "print(importances)\n",
    "indices = np.argsort(importances)[-13:]  # top 10 features\n",
    "print(indices)\n",
    "plt.title('Feature Importances')\n",
    "plt.barh(range(len(indices)), importances[indices], color='b', align='center')\n",
    "plt.yticks(range(len(indices)), [features[i] for i in indices])\n",
    "plt.xlabel('Relative Importance')\n",
    "plt.show()"
   ]
  },
  {
   "cell_type": "code",
   "execution_count": 18,
   "metadata": {
    "ExecuteTime": {
     "end_time": "2021-05-20T16:31:49.748963Z",
     "start_time": "2021-05-20T16:31:49.725668Z"
    }
   },
   "outputs": [
    {
     "name": "stdout",
     "output_type": "stream",
     "text": [
      "None\n",
      "==============================\n",
      "\n",
      "\n",
      "['Return-Path', 'X-Original-To', 'Delivered-To', 'Received', 'Received', 'Received', 'Received', 'From', 'To', 'Subject', 'X-Originating-Server', 'X-Mailer', 'X-Priority', 'MIME-Version', 'Content-Type', 'Message-Id', 'Date', 'Status', 'X-Status', 'X-Keywords', 'X-UID']\n",
      "174\n",
      "multipart/related\n",
      "text/html\n",
      "image/gif\n",
      "None\n",
      "==============================\n",
      "\n",
      "\n",
      "['Return-Path', 'Delivered-To', 'Received', 'Received', 'Received', 'Received', 'Received', 'X-Authentication-Warning', 'Received', 'Received', 'Received', 'Content-Class', 'MIME-Version', 'Content-Type', 'Subject', 'X-Mimeole', 'Date', 'Message-Id', 'X-MS-Has-Attach', 'X-MS-Tnef-Correlator', 'Thread-Topic', 'Thread-Index', 'From', 'To', 'Content-Transfer-Encoding', 'X-MIME-Autoconverted', 'Sender', 'Errors-To', 'X-Mailman-Version', 'Precedence', 'List-Id', 'X-Beenthere']\n",
      "163\n",
      "text/plain\n"
     ]
    }
   ],
   "source": [
    "def headersFilters(mails, label):\n",
    "    mail = mails[130]\n",
    "    msg = email.message_from_string(mail)\n",
    "    print(msg.get_charset())\n",
    "    #         for part in msg.get_payload():\n",
    "    #             print (part)\n",
    "    #         print(msg.is_multipart())\n",
    "    print(\"==============================\\n\\n\")\n",
    "    print(msg.keys())\n",
    "    print(len(msg[\"Received\"]))\n",
    "\n",
    "    for part in msg.walk():\n",
    "        print(part.get_content_type())\n",
    "\n",
    "\n",
    "headersFilters(phishing, 1)\n",
    "headersFilters(ham, 1)"
   ]
  },
  {
   "cell_type": "code",
   "execution_count": 19,
   "metadata": {
    "ExecuteTime": {
     "end_time": "2021-05-20T16:31:50.014344Z",
     "start_time": "2021-05-20T16:31:49.992370Z"
    }
   },
   "outputs": [
    {
     "ename": "NameError",
     "evalue": "name 'X' is not defined",
     "output_type": "error",
     "traceback": [
      "\u001b[0;31m---------------------------------------------------------------------------\u001b[0m",
      "\u001b[0;31mNameError\u001b[0m                                 Traceback (most recent call last)",
      "\u001b[0;32m<ipython-input-19-0da19efa1dae>\u001b[0m in \u001b[0;36m<module>\u001b[0;34m\u001b[0m\n\u001b[1;32m      1\u001b[0m \u001b[0;32mfrom\u001b[0m \u001b[0msklearn\u001b[0m\u001b[0;34m.\u001b[0m\u001b[0mmodel_selection\u001b[0m \u001b[0;32mimport\u001b[0m \u001b[0mtrain_test_split\u001b[0m\u001b[0;34m\u001b[0m\u001b[0;34m\u001b[0m\u001b[0m\n\u001b[0;32m----> 2\u001b[0;31m X_train, X_test, y_train, y_test = train_test_split(X,\n\u001b[0m\u001b[1;32m      3\u001b[0m                                                     \u001b[0my\u001b[0m\u001b[0;34m,\u001b[0m\u001b[0;34m\u001b[0m\u001b[0;34m\u001b[0m\u001b[0m\n\u001b[1;32m      4\u001b[0m                                                     \u001b[0mtest_size\u001b[0m\u001b[0;34m=\u001b[0m\u001b[0;36m0.25\u001b[0m\u001b[0;34m,\u001b[0m\u001b[0;34m\u001b[0m\u001b[0;34m\u001b[0m\u001b[0m\n\u001b[1;32m      5\u001b[0m                                                     \u001b[0mstratify\u001b[0m\u001b[0;34m=\u001b[0m\u001b[0my\u001b[0m\u001b[0;34m,\u001b[0m\u001b[0;34m\u001b[0m\u001b[0;34m\u001b[0m\u001b[0m\n",
      "\u001b[0;31mNameError\u001b[0m: name 'X' is not defined"
     ]
    }
   ],
   "source": [
    "from sklearn.model_selection import train_test_split\n",
    "X_train, X_test, y_train, y_test = train_test_split(X,\n",
    "                                                    y,\n",
    "                                                    test_size=0.25,\n",
    "                                                    stratify=y,\n",
    "                                                    random_state=42)"
   ]
  },
  {
   "cell_type": "code",
   "execution_count": 20,
   "metadata": {
    "ExecuteTime": {
     "end_time": "2021-05-20T16:31:50.282463Z",
     "start_time": "2021-05-20T16:31:50.261960Z"
    }
   },
   "outputs": [
    {
     "ename": "NameError",
     "evalue": "name 'X_train' is not defined",
     "output_type": "error",
     "traceback": [
      "\u001b[0;31m---------------------------------------------------------------------------\u001b[0m",
      "\u001b[0;31mNameError\u001b[0m                                 Traceback (most recent call last)",
      "\u001b[0;32m<ipython-input-20-2f9e25cf6816>\u001b[0m in \u001b[0;36m<module>\u001b[0;34m\u001b[0m\n\u001b[1;32m      1\u001b[0m \u001b[0;31m# check dataset shapes\u001b[0m\u001b[0;34m\u001b[0m\u001b[0;34m\u001b[0m\u001b[0;34m\u001b[0m\u001b[0m\n\u001b[0;32m----> 2\u001b[0;31m \u001b[0mprint\u001b[0m\u001b[0;34m(\u001b[0m\u001b[0mlen\u001b[0m\u001b[0;34m(\u001b[0m\u001b[0mX_train\u001b[0m\u001b[0;34m)\u001b[0m\u001b[0;34m,\u001b[0m \u001b[0mlen\u001b[0m\u001b[0;34m(\u001b[0m\u001b[0my_train\u001b[0m\u001b[0;34m)\u001b[0m\u001b[0;34m)\u001b[0m\u001b[0;34m\u001b[0m\u001b[0;34m\u001b[0m\u001b[0m\n\u001b[0m\u001b[1;32m      3\u001b[0m \u001b[0mprint\u001b[0m\u001b[0;34m(\u001b[0m\u001b[0mlen\u001b[0m\u001b[0;34m(\u001b[0m\u001b[0mX_test\u001b[0m\u001b[0;34m)\u001b[0m\u001b[0;34m,\u001b[0m \u001b[0mlen\u001b[0m\u001b[0;34m(\u001b[0m\u001b[0my_test\u001b[0m\u001b[0;34m)\u001b[0m\u001b[0;34m)\u001b[0m\u001b[0;34m\u001b[0m\u001b[0;34m\u001b[0m\u001b[0m\n",
      "\u001b[0;31mNameError\u001b[0m: name 'X_train' is not defined"
     ]
    }
   ],
   "source": [
    "# check dataset shapes\n",
    "print(len(X_train), len(y_train))\n",
    "print(len(X_test), len(y_test))"
   ]
  },
  {
   "cell_type": "code",
   "execution_count": null,
   "metadata": {},
   "outputs": [],
   "source": []
  },
  {
   "cell_type": "code",
   "execution_count": null,
   "metadata": {},
   "outputs": [],
   "source": []
  },
  {
   "cell_type": "code",
   "execution_count": null,
   "metadata": {},
   "outputs": [],
   "source": []
  },
  {
   "cell_type": "code",
   "execution_count": null,
   "metadata": {},
   "outputs": [],
   "source": []
  },
  {
   "cell_type": "code",
   "execution_count": null,
   "metadata": {},
   "outputs": [],
   "source": []
  },
  {
   "cell_type": "code",
   "execution_count": null,
   "metadata": {},
   "outputs": [],
   "source": []
  },
  {
   "cell_type": "code",
   "execution_count": null,
   "metadata": {},
   "outputs": [],
   "source": []
  },
  {
   "cell_type": "code",
   "execution_count": null,
   "metadata": {},
   "outputs": [],
   "source": []
  },
  {
   "cell_type": "code",
   "execution_count": null,
   "metadata": {},
   "outputs": [],
   "source": []
  },
  {
   "cell_type": "code",
   "execution_count": null,
   "metadata": {},
   "outputs": [],
   "source": []
  },
  {
   "cell_type": "code",
   "execution_count": null,
   "metadata": {},
   "outputs": [],
   "source": []
  },
  {
   "cell_type": "code",
   "execution_count": null,
   "metadata": {},
   "outputs": [],
   "source": []
  },
  {
   "cell_type": "code",
   "execution_count": null,
   "metadata": {},
   "outputs": [],
   "source": []
  },
  {
   "cell_type": "code",
   "execution_count": null,
   "metadata": {},
   "outputs": [],
   "source": []
  },
  {
   "cell_type": "code",
   "execution_count": null,
   "metadata": {},
   "outputs": [],
   "source": []
  },
  {
   "cell_type": "code",
   "execution_count": null,
   "metadata": {},
   "outputs": [],
   "source": []
  }
 ],
 "metadata": {
  "kernelspec": {
   "display_name": "Python 3",
   "language": "python",
   "name": "python3"
  },
  "language_info": {
   "codemirror_mode": {
    "name": "ipython",
    "version": 3
   },
   "file_extension": ".py",
   "mimetype": "text/x-python",
   "name": "python",
   "nbconvert_exporter": "python",
   "pygments_lexer": "ipython3",
   "version": "3.8.5"
  },
  "toc": {
   "base_numbering": 1,
   "nav_menu": {},
   "number_sections": true,
   "sideBar": true,
   "skip_h1_title": true,
   "title_cell": "Table of Contents",
   "title_sidebar": "Contents",
   "toc_cell": true,
   "toc_position": {
    "height": "calc(100% - 180px)",
    "left": "10px",
    "top": "150px",
    "width": "256px"
   },
   "toc_section_display": true,
   "toc_window_display": false
  },
  "varInspector": {
   "cols": {
    "lenName": 16,
    "lenType": 16,
    "lenVar": 40
   },
   "kernels_config": {
    "python": {
     "delete_cmd_postfix": "",
     "delete_cmd_prefix": "del ",
     "library": "var_list.py",
     "varRefreshCmd": "print(var_dic_list())"
    },
    "r": {
     "delete_cmd_postfix": ") ",
     "delete_cmd_prefix": "rm(",
     "library": "var_list.r",
     "varRefreshCmd": "cat(var_dic_list()) "
    }
   },
   "types_to_exclude": [
    "module",
    "function",
    "builtin_function_or_method",
    "instance",
    "_Feature"
   ],
   "window_display": false
  }
 },
 "nbformat": 4,
 "nbformat_minor": 2
}
